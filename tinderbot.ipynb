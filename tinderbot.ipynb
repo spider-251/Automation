{
 "cells": [
  {
   "cell_type": "code",
   "execution_count": 36,
   "metadata": {},
   "outputs": [],
   "source": [
    "from selenium import webdriver\n",
    "from selenium.webdriver.chrome.service import Service\n",
    "from selenium.webdriver.chrome.options import Options\n",
    "import time\n",
    "\n",
    "path = '/Users/giriprakash/Downloads/chromedriver 2'\n",
    "service = Service(executable_path=path)\n",
    "web = 'https://tinder.com/'\n",
    "\n",
    "options = Options()\n",
    "options.add_experimental_option(\"debuggerAddress\", \"localhost:9222\")\n",
    "driver = webdriver.Chrome(service=service, options=options)\n",
    "\n",
    "driver.get(web)\n",
    "time.sleep(3)"
   ]
  },
  {
   "cell_type": "code",
   "execution_count": null,
   "metadata": {},
   "outputs": [],
   "source": [
    "# edit pickup line and number of swipes\n",
    "opening_line = \"Hi!\"\n",
    "number_of_swipes = 30\n",
    "\n",
    "for i in range(number_of_swipes):\n",
    "    try:\n",
    "        like_button = driver.find_element(by='xpath', value='//button//span[text()=\"Like\"]')\n",
    "        driver.execute_script(\"arguments[0].click();\", like_button)\n",
    "        time.sleep(2)\n",
    "\n",
    "        its_match_window = driver.find_element(by='xpath', value='//textarea[@placeholder=\"Say something nice!\"]')\n",
    "        its_match_window.send_keys(opening_line)\n",
    "        time.sleep(1)\n",
    "\n",
    "        send_message_button = driver.find_element(by='xpath', value='//button/span[text()=\"Send\"]')\n",
    "        send_message_button.click()\n",
    "        time.sleep(1)\n",
    "\n",
    "        close_its_match_window = driver.find_element(by='xpath', value='//button[@title=\"Back to Tinder\"]')\n",
    "        close_its_match_window.click()\n",
    "\n",
    "    except:\n",
    "        try:\n",
    "            box = driver.find_element(by='xpath', value='//button/span[text()=\"Maybe Later\"] | //button/span[text()=\"Not interested\"] | //button/span[text()=\"No Thanks\"]')\n",
    "            box.click()\n",
    "        except:\n",
    "            pass"
   ]
  }
 ],
 "metadata": {
  "kernelspec": {
   "display_name": "Python 3.10.5 64-bit",
   "language": "python",
   "name": "python3"
  },
  "language_info": {
   "codemirror_mode": {
    "name": "ipython",
    "version": 3
   },
   "file_extension": ".py",
   "mimetype": "text/x-python",
   "name": "python",
   "nbconvert_exporter": "python",
   "pygments_lexer": "ipython3",
   "version": "3.10.5"
  },
  "orig_nbformat": 4,
  "vscode": {
   "interpreter": {
    "hash": "aee8b7b246df8f9039afb4144a1f6fd8d2ca17a180786b69acc140d282b71a49"
   }
  }
 },
 "nbformat": 4,
 "nbformat_minor": 2
}
